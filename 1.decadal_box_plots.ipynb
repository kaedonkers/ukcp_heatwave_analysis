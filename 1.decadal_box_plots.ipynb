{
 "cells": [
  {
   "cell_type": "markdown",
   "metadata": {},
   "source": [
    "# Calculate heatwave duration within data"
   ]
  },
  {
   "cell_type": "code",
   "execution_count": 3,
   "metadata": {},
   "outputs": [],
   "source": [
    "import iris\n",
    "import pandas as pd\n",
    "import xarray as xr\n",
    "import numpy as np\n",
    "from dask import array as da"
   ]
  },
  {
   "cell_type": "code",
   "execution_count": 4,
   "metadata": {},
   "outputs": [],
   "source": [
    "def np_consecutive(arr):\n",
    "    if isinstance(arr, (xr.DataArray, iris.cube.Cube)):\n",
    "        data = arr.data\n",
    "        if isinstance(data, da.Array):\n",
    "            data.compute_chunk_sizes()\n",
    "    else:\n",
    "        data = arr\n",
    "    out = np.diff(np.where(np.concatenate(([data[0]],\n",
    "                                     data[:-1] != data[1:],\n",
    "                                     [True])))[0])[::2]\n",
    "    return out"
   ]
  },
  {
   "cell_type": "code",
   "execution_count": 5,
   "metadata": {},
   "outputs": [],
   "source": [
    "def consec_count(data, threshold=25, ndays=14):\n",
    "    \n",
    "    days = np.arange(0, ndays+1)\n",
    "    heatwave_counts = {}\n",
    "    years = np.unique(data.year)\n",
    "    for year in years:\n",
    "        counts = np.zeros_like(days)\n",
    "        arr = data[data.year==year]\n",
    "        arr_hot = arr>threshold\n",
    "        hots = np_consecutive(arr_hot)\n",
    "        colds = np.count_nonzero(~arr_hot)\n",
    "        counts[0]=colds\n",
    "        for day in days[1:-1]:\n",
    "            counts[day]=np.count_nonzero(hots==day)\n",
    "        counts[-1]=np.count_nonzero(hots>=days[-1])\n",
    "\n",
    "        heatwave_counts[year]=counts\n",
    "    return heatwave_counts"
   ]
  },
  {
   "cell_type": "code",
   "execution_count": 6,
   "metadata": {},
   "outputs": [],
   "source": [
    "def annual_heatwaves(data, **kwargs):\n",
    "    if isinstance(data, iris.cube.Cube):\n",
    "        data = xr.DataArray.from_iris(data).compute()\n",
    "    ensemble = np.unique(data.ensemble_member)\n",
    "    dfs = []\n",
    "    for member in ensemble:\n",
    "        arr = data.sel(ensemble_member=member).compute()\n",
    "        counts = consec_count(arr, **kwargs)\n",
    "        df = pd.DataFrame.from_dict(counts, orient='index')\n",
    "        df.reset_index(inplace=True)\n",
    "        df.rename(columns={'index': 'year'}, inplace=True)\n",
    "        df['ensemble_member']=member\n",
    "        dfs.append(df)\n",
    "    return pd.concat(dfs)"
   ]
  },
  {
   "cell_type": "markdown",
   "metadata": {},
   "source": [
    "## `tasmax`"
   ]
  },
  {
   "cell_type": "code",
   "execution_count": 7,
   "metadata": {},
   "outputs": [
    {
     "name": "stdout",
     "output_type": "stream",
     "text": [
      "CPU times: user 331 ms, sys: 27.7 ms, total: 358 ms\n",
      "Wall time: 831 ms\n"
     ]
    },
    {
     "data": {
      "text/plain": [
       "'air_temperature / (degC)            (ensemble_member: 12; time: 21600)'"
      ]
     },
     "execution_count": 7,
     "metadata": {},
     "output_type": "execute_result"
    }
   ],
   "source": [
    "%%time\n",
    "fname = \"data/UKCP/utci_regional/tasmax_rcp85_land-cpm_uk_london_01-15_day_19801201-20801130.nc\"\n",
    "tasmax = iris.load_cube(fname)\n",
    "tasmax.summary(shorten=True)"
   ]
  },
  {
   "cell_type": "markdown",
   "metadata": {},
   "source": [
    "### Annual hot days (number of days above 28°C)"
   ]
  },
  {
   "cell_type": "code",
   "execution_count": 8,
   "metadata": {},
   "outputs": [
    {
     "name": "stdout",
     "output_type": "stream",
     "text": [
      "CPU times: user 1.14 s, sys: 58.7 ms, total: 1.2 s\n",
      "Wall time: 1.32 s\n"
     ]
    }
   ],
   "source": [
    "%%time\n",
    "tashot = tasmax.aggregated_by(\"year\", iris.analysis.COUNT, function=lambda value: value>=28)\n",
    "tashot.rename(\"Annual Hot Days\")"
   ]
  },
  {
   "cell_type": "markdown",
   "metadata": {},
   "source": [
    "### Annual heatwave days (number of days within a heatwave | 3+ days of >28°C)"
   ]
  },
  {
   "cell_type": "code",
   "execution_count": 9,
   "metadata": {},
   "outputs": [
    {
     "name": "stdout",
     "output_type": "stream",
     "text": [
      "CPU times: user 2.19 s, sys: 41.4 ms, total: 2.23 s\n",
      "Wall time: 2.35 s\n"
     ]
    },
    {
     "data": {
      "text/html": [
       "<div>\n",
       "<style scoped>\n",
       "    .dataframe tbody tr th:only-of-type {\n",
       "        vertical-align: middle;\n",
       "    }\n",
       "\n",
       "    .dataframe tbody tr th {\n",
       "        vertical-align: top;\n",
       "    }\n",
       "\n",
       "    .dataframe thead th {\n",
       "        text-align: right;\n",
       "    }\n",
       "</style>\n",
       "<table border=\"1\" class=\"dataframe\">\n",
       "  <thead>\n",
       "    <tr style=\"text-align: right;\">\n",
       "      <th></th>\n",
       "      <th>year</th>\n",
       "      <th>ensemble_member</th>\n",
       "      <th>heatwave_days</th>\n",
       "    </tr>\n",
       "  </thead>\n",
       "  <tbody>\n",
       "    <tr>\n",
       "      <th>0</th>\n",
       "      <td>1980</td>\n",
       "      <td>1</td>\n",
       "      <td>0</td>\n",
       "    </tr>\n",
       "    <tr>\n",
       "      <th>1</th>\n",
       "      <td>1980</td>\n",
       "      <td>4</td>\n",
       "      <td>0</td>\n",
       "    </tr>\n",
       "    <tr>\n",
       "      <th>2</th>\n",
       "      <td>1980</td>\n",
       "      <td>5</td>\n",
       "      <td>0</td>\n",
       "    </tr>\n",
       "    <tr>\n",
       "      <th>3</th>\n",
       "      <td>1980</td>\n",
       "      <td>6</td>\n",
       "      <td>0</td>\n",
       "    </tr>\n",
       "    <tr>\n",
       "      <th>4</th>\n",
       "      <td>1980</td>\n",
       "      <td>7</td>\n",
       "      <td>0</td>\n",
       "    </tr>\n",
       "  </tbody>\n",
       "</table>\n",
       "</div>"
      ],
      "text/plain": [
       "   year  ensemble_member  heatwave_days\n",
       "0  1980                1              0\n",
       "1  1980                4              0\n",
       "2  1980                5              0\n",
       "3  1980                6              0\n",
       "4  1980                7              0"
      ]
     },
     "execution_count": 9,
     "metadata": {},
     "output_type": "execute_result"
    }
   ],
   "source": [
    "%%time\n",
    "tashw = (annual_heatwaves(tasmax, threshold=28, ndays=90)\n",
    "         .drop(columns=[0, 1, 2])\n",
    "         .melt(id_vars=['year', 'ensemble_member'], var_name='duration', value_name='occurances')\n",
    "         .assign(heatwave_days=lambda df: df.duration*df.occurances)\n",
    "         .drop(columns=['duration', 'occurances'])\n",
    "         .groupby(['year', 'ensemble_member'])\n",
    "         .sum()\n",
    "         .reset_index()\n",
    "        )\n",
    "tashw.head()"
   ]
  },
  {
   "cell_type": "markdown",
   "metadata": {},
   "source": [
    "## `utci`"
   ]
  },
  {
   "cell_type": "code",
   "execution_count": 10,
   "metadata": {},
   "outputs": [
    {
     "name": "stdout",
     "output_type": "stream",
     "text": [
      "CPU times: user 230 ms, sys: 16.5 ms, total: 246 ms\n",
      "Wall time: 341 ms\n"
     ]
    },
    {
     "data": {
      "text/plain": [
       "'utci / (degC)                       (ensemble_member: 12; time: 21600)'"
      ]
     },
     "execution_count": 10,
     "metadata": {},
     "output_type": "execute_result"
    }
   ],
   "source": [
    "%%time\n",
    "fname = \"data/UKCP/utci_regional/utcimax_rcp85_land-cpm_uk_london_01-15_day_19801201-20801130.nc\"\n",
    "utci = iris.load_cube(fname)\n",
    "utci.summary(shorten=True)"
   ]
  },
  {
   "cell_type": "markdown",
   "metadata": {},
   "source": [
    "### Annual hot days (number of days above 28°C)"
   ]
  },
  {
   "cell_type": "code",
   "execution_count": 11,
   "metadata": {},
   "outputs": [
    {
     "name": "stdout",
     "output_type": "stream",
     "text": [
      "CPU times: user 1.02 s, sys: 28.8 ms, total: 1.05 s\n",
      "Wall time: 1.11 s\n"
     ]
    }
   ],
   "source": [
    "%%time\n",
    "utcihot = utci.aggregated_by(\"year\", iris.analysis.COUNT, function=lambda value: value>=28)\n",
    "utcihot.rename(\"Annual Hot Days (UTCI)\")"
   ]
  },
  {
   "cell_type": "markdown",
   "metadata": {},
   "source": [
    "### Annual heatwave days (number of days within a heatwave | 3+ days of >28°C)"
   ]
  },
  {
   "cell_type": "code",
   "execution_count": 12,
   "metadata": {},
   "outputs": [
    {
     "name": "stdout",
     "output_type": "stream",
     "text": [
      "CPU times: user 2.3 s, sys: 46 ms, total: 2.35 s\n",
      "Wall time: 2.5 s\n"
     ]
    },
    {
     "data": {
      "text/html": [
       "<div>\n",
       "<style scoped>\n",
       "    .dataframe tbody tr th:only-of-type {\n",
       "        vertical-align: middle;\n",
       "    }\n",
       "\n",
       "    .dataframe tbody tr th {\n",
       "        vertical-align: top;\n",
       "    }\n",
       "\n",
       "    .dataframe thead th {\n",
       "        text-align: right;\n",
       "    }\n",
       "</style>\n",
       "<table border=\"1\" class=\"dataframe\">\n",
       "  <thead>\n",
       "    <tr style=\"text-align: right;\">\n",
       "      <th></th>\n",
       "      <th>year</th>\n",
       "      <th>ensemble_member</th>\n",
       "      <th>heatwave_days</th>\n",
       "    </tr>\n",
       "  </thead>\n",
       "  <tbody>\n",
       "    <tr>\n",
       "      <th>0</th>\n",
       "      <td>1980</td>\n",
       "      <td>1</td>\n",
       "      <td>0</td>\n",
       "    </tr>\n",
       "    <tr>\n",
       "      <th>1</th>\n",
       "      <td>1980</td>\n",
       "      <td>4</td>\n",
       "      <td>0</td>\n",
       "    </tr>\n",
       "    <tr>\n",
       "      <th>2</th>\n",
       "      <td>1980</td>\n",
       "      <td>5</td>\n",
       "      <td>0</td>\n",
       "    </tr>\n",
       "    <tr>\n",
       "      <th>3</th>\n",
       "      <td>1980</td>\n",
       "      <td>6</td>\n",
       "      <td>0</td>\n",
       "    </tr>\n",
       "    <tr>\n",
       "      <th>4</th>\n",
       "      <td>1980</td>\n",
       "      <td>7</td>\n",
       "      <td>0</td>\n",
       "    </tr>\n",
       "  </tbody>\n",
       "</table>\n",
       "</div>"
      ],
      "text/plain": [
       "   year  ensemble_member  heatwave_days\n",
       "0  1980                1              0\n",
       "1  1980                4              0\n",
       "2  1980                5              0\n",
       "3  1980                6              0\n",
       "4  1980                7              0"
      ]
     },
     "execution_count": 12,
     "metadata": {},
     "output_type": "execute_result"
    }
   ],
   "source": [
    "%%time\n",
    "utcihw = (annual_heatwaves(utci, threshold=28, ndays=90)\n",
    "         .drop(columns=[0, 1, 2])\n",
    "         .melt(id_vars=['year', 'ensemble_member'], var_name='duration', value_name='occurances')\n",
    "         .assign(heatwave_days=lambda df: df.duration*df.occurances)\n",
    "         .drop(columns=['duration', 'occurances'])\n",
    "         .groupby(['year', 'ensemble_member'])\n",
    "         .sum()\n",
    "         .reset_index()\n",
    "        )\n",
    "utcihw.head()"
   ]
  },
  {
   "cell_type": "markdown",
   "metadata": {},
   "source": [
    "## `utci10`"
   ]
  },
  {
   "cell_type": "code",
   "execution_count": 13,
   "metadata": {},
   "outputs": [
    {
     "name": "stdout",
     "output_type": "stream",
     "text": [
      "CPU times: user 274 ms, sys: 19 ms, total: 293 ms\n",
      "Wall time: 350 ms\n"
     ]
    },
    {
     "data": {
      "text/plain": [
       "'utci class 10 / (1)                 (ensemble_member: 12; time: 21600)'"
      ]
     },
     "execution_count": 13,
     "metadata": {},
     "output_type": "execute_result"
    }
   ],
   "source": [
    "%%time\n",
    "fname = \"data/UKCP/utci_regional/utci10max_rcp85_land-cpm_uk_london_01-15_day_19801201-20801130.nc\"\n",
    "u10 = iris.load_cube(fname)\n",
    "u10.summary(shorten=True)"
   ]
  },
  {
   "cell_type": "markdown",
   "metadata": {},
   "source": [
    "### Annual hot days (number of days above 28°C)"
   ]
  },
  {
   "cell_type": "code",
   "execution_count": 14,
   "metadata": {},
   "outputs": [
    {
     "name": "stdout",
     "output_type": "stream",
     "text": [
      "CPU times: user 1.08 s, sys: 32.1 ms, total: 1.11 s\n",
      "Wall time: 1.18 s\n"
     ]
    }
   ],
   "source": [
    "%%time\n",
    "u10hot = u10.aggregated_by(\"year\", iris.analysis.COUNT, function=lambda value: value>6.0)\n",
    "u10hot.rename(\"Annual Heatstress Days (UTCI10)\")"
   ]
  },
  {
   "cell_type": "markdown",
   "metadata": {},
   "source": [
    "### Annual heatwave days (number of days within a heatwave | 3+ days of >28°C)"
   ]
  },
  {
   "cell_type": "code",
   "execution_count": 15,
   "metadata": {},
   "outputs": [
    {
     "name": "stdout",
     "output_type": "stream",
     "text": [
      "CPU times: user 2.2 s, sys: 40.3 ms, total: 2.24 s\n",
      "Wall time: 2.3 s\n"
     ]
    },
    {
     "data": {
      "text/html": [
       "<div>\n",
       "<style scoped>\n",
       "    .dataframe tbody tr th:only-of-type {\n",
       "        vertical-align: middle;\n",
       "    }\n",
       "\n",
       "    .dataframe tbody tr th {\n",
       "        vertical-align: top;\n",
       "    }\n",
       "\n",
       "    .dataframe thead th {\n",
       "        text-align: right;\n",
       "    }\n",
       "</style>\n",
       "<table border=\"1\" class=\"dataframe\">\n",
       "  <thead>\n",
       "    <tr style=\"text-align: right;\">\n",
       "      <th></th>\n",
       "      <th>year</th>\n",
       "      <th>ensemble_member</th>\n",
       "      <th>heatwave_days</th>\n",
       "    </tr>\n",
       "  </thead>\n",
       "  <tbody>\n",
       "    <tr>\n",
       "      <th>0</th>\n",
       "      <td>1980</td>\n",
       "      <td>1</td>\n",
       "      <td>0</td>\n",
       "    </tr>\n",
       "    <tr>\n",
       "      <th>1</th>\n",
       "      <td>1980</td>\n",
       "      <td>4</td>\n",
       "      <td>0</td>\n",
       "    </tr>\n",
       "    <tr>\n",
       "      <th>2</th>\n",
       "      <td>1980</td>\n",
       "      <td>5</td>\n",
       "      <td>0</td>\n",
       "    </tr>\n",
       "    <tr>\n",
       "      <th>3</th>\n",
       "      <td>1980</td>\n",
       "      <td>6</td>\n",
       "      <td>0</td>\n",
       "    </tr>\n",
       "    <tr>\n",
       "      <th>4</th>\n",
       "      <td>1980</td>\n",
       "      <td>7</td>\n",
       "      <td>0</td>\n",
       "    </tr>\n",
       "  </tbody>\n",
       "</table>\n",
       "</div>"
      ],
      "text/plain": [
       "   year  ensemble_member  heatwave_days\n",
       "0  1980                1              0\n",
       "1  1980                4              0\n",
       "2  1980                5              0\n",
       "3  1980                6              0\n",
       "4  1980                7              0"
      ]
     },
     "execution_count": 15,
     "metadata": {},
     "output_type": "execute_result"
    }
   ],
   "source": [
    "%%time\n",
    "u10hw = (annual_heatwaves(u10, threshold=6.0, ndays=90)\n",
    "         .drop(columns=[0, 1, 2])\n",
    "         .melt(id_vars=['year', 'ensemble_member'], var_name='duration', value_name='occurances')\n",
    "         .assign(heatwave_days=lambda df: df.duration*df.occurances)\n",
    "         .drop(columns=['duration', 'occurances'])\n",
    "         .groupby(['year', 'ensemble_member'])\n",
    "         .sum()\n",
    "         .reset_index()\n",
    "        )\n",
    "u10hw.head()"
   ]
  },
  {
   "cell_type": "markdown",
   "metadata": {},
   "source": [
    "# Boxplots"
   ]
  },
  {
   "cell_type": "code",
   "execution_count": 29,
   "metadata": {},
   "outputs": [],
   "source": [
    "import matplotlib\n",
    "import matplotlib.pyplot as plt\n",
    "from matplotlib.ticker import (MultipleLocator, AutoMinorLocator)\n",
    "\n",
    "matplotlib.rcParams.update({\n",
    "    \"pgf.texsystem\": \"pdflatex\",\n",
    "    'font.family': 'serif',\n",
    "    'text.usetex': True,\n",
    "    'pgf.rcfonts': False,\n",
    "})"
   ]
  },
  {
   "cell_type": "code",
   "execution_count": 17,
   "metadata": {},
   "outputs": [],
   "source": [
    "def decadal_hot_counts(cube, years):\n",
    "    xss = []\n",
    "    ls = []\n",
    "    for d in years:\n",
    "        xs = []\n",
    "        for y in range(d+1, d+11):\n",
    "            x=cube.extract(iris.Constraint(year=y)).data\n",
    "            xs.extend(x)\n",
    "        xss.append(xs)\n",
    "        ls.append(f\"{d}s\")\n",
    "    return xss, ls\n",
    "\n",
    "\n",
    "def decadal_hw_counts(df, years):\n",
    "    xss = []\n",
    "    ls = []\n",
    "    for d in years:\n",
    "        xs = []\n",
    "        for y in range(d+1, d+11):\n",
    "            x=df[df.year==y].heatwave_days\n",
    "            xs.extend(x)\n",
    "        xss.append(xs)\n",
    "        ls.append(f\"{d}s\")\n",
    "    return xss, ls"
   ]
  },
  {
   "cell_type": "code",
   "execution_count": 170,
   "metadata": {},
   "outputs": [],
   "source": [
    "def boxplot_ax(xss, ls, ax=None, title=\"\", ylim=120, boxcolor='deepskyblue'):\n",
    "    if ax == None:\n",
    "        ax = plt.axes()\n",
    "    ax.boxplot(xss, labels=ls,\n",
    "              patch_artist=True,\n",
    "              boxprops={'facecolor': boxcolor},\n",
    "              medianprops={'color': '#1536E2'},\n",
    "              flierprops={'marker': 'o', 'markerfacecolor': boxcolor})\n",
    "    ax.set_title(title, y=0.88)\n",
    "#     ax.set_xlabel(\"Decade\")\n",
    "#     ax.set_ylabel(\"Number of days per year\")\n",
    "    ax.set_ylim((0,ylim))\n",
    "    ax.grid(axis='y')\n",
    "    ax.set_axisbelow(True)\n",
    "\n",
    "def box_decadal(data, years, **pltkwargs):\n",
    "    if isinstance(data, iris.cube.Cube):\n",
    "        xss, ls = decadal_hot_counts(data, years)\n",
    "    elif isinstance(data, pd.DataFrame):\n",
    "        xss, ls = decadal_hw_counts(data, years)\n",
    "    else:\n",
    "        raise TypeError\n",
    "    \n",
    "    boxplot_ax(xss, ls, **pltkwargs)"
   ]
  },
  {
   "cell_type": "code",
   "execution_count": 120,
   "metadata": {},
   "outputs": [
    {
     "name": "stdout",
     "output_type": "stream",
     "text": [
      "CPU times: user 2.92 s, sys: 113 ms, total: 3.03 s\n",
      "Wall time: 3.1 s\n"
     ]
    },
    {
     "data": {
      "image/png": "[encoded data removed]",
      "text/plain": [
       "<Figure size 432x288 with 1 Axes>"
      ]
     },
     "metadata": {
      "needs_background": "light"
     },
     "output_type": "display_data"
    }
   ],
   "source": [
    "%%time\n",
    "years = (1980, 1990, 2020, 2030, 2060, 2070)\n",
    "box_decadal(tashot, years, title='Air Temperature + Met Office Threshold')"
   ]
  },
  {
   "cell_type": "code",
   "execution_count": 38,
   "metadata": {},
   "outputs": [
    {
     "data": {
      "image/png": "[encoded data removed]",
      "text/plain": [
       "<Figure size 432x288 with 1 Axes>"
      ]
     },
     "metadata": {
      "needs_background": "light"
     },
     "output_type": "display_data"
    }
   ],
   "source": [
    "box_decadal(tashw, years)"
   ]
  },
  {
   "cell_type": "code",
   "execution_count": 174,
   "metadata": {},
   "outputs": [],
   "source": [
    "def mega_boxplot(datas, subtitles, fname, title, boxcolors):\n",
    "    years = (1980, 1990, 2020, 2030, 2060, 2070)\n",
    "    \n",
    "    width=8.50166\n",
    "    fsize=(width, 3*width/2.5)\n",
    "\n",
    "    fig, axs = plt.subplots(3,2, sharex=False, sharey=False, figsize=fsize)\n",
    "\n",
    "    fig.suptitle(title, x=0.1, y=0.93, ha='left', fontsize='x-large')\n",
    "    fig.text(0.30, 0.895, 'Hot Days', ha='center', va='center', fontsize='large')\n",
    "    fig.text(0.73, 0.895, 'Heatwave Days', ha='center', va='center', fontsize='large')\n",
    "    fig.text(0.51, 0.09, 'Decade', ha='center', va='center')\n",
    "    fig.text(0.07, 0.5, 'Number of days per year', ha='center', va='center', rotation='vertical')\n",
    "\n",
    "    for i in range(6):\n",
    "        ax = axs.flatten()[i]\n",
    "        data = datas[i]\n",
    "        subtitle = subtitles[i]\n",
    "        boxcolor = boxcolors[i]\n",
    "        box_decadal(data, years, ax=ax, title=subtitle, boxcolor=boxcolor)\n",
    "    \n",
    "#     plt.show()\n",
    "    plt.savefig(f\"pngs/{fname}.png\", bbox_inches='tight')\n",
    "    plt.savefig(f\"pdfs/{fname}.pdf\", bbox_inches='tight')\n",
    "    plt.savefig(f\"pgfs/{fname}.pgf\", bbox_inches='tight')"
   ]
  },
  {
   "cell_type": "code",
   "execution_count": 175,
   "metadata": {},
   "outputs": [],
   "source": [
    "datas = [tashot, tashw, utcihot, utcihw, u10hot, u10hw]\n",
    "subtitles = ['Air Temperature + Met Office Threshold', 'Air Temperature + Met Office Threshold', \n",
    "             'UTCI + Met Office Threshold', 'UTCI + Met Office Threshold', \n",
    "             'UTCI + Heat Stress Threshold', 'UTCI + Heat Stress Threshold']\n",
    "boxcolors = ['#DD7F22', '#E14C1E']*3\n",
    "fname='boxplots'\n",
    "title='Decadal comparison of annual number of hot and heatwave days'"
   ]
  },
  {
   "cell_type": "code",
   "execution_count": 176,
   "metadata": {},
   "outputs": [
    {
     "name": "stdout",
     "output_type": "stream",
     "text": [
      "CPU times: user 11.2 s, sys: 389 ms, total: 11.6 s\n",
      "Wall time: 13.8 s\n"
     ]
    },
    {
     "data": {
      "image/png": "[encoded data removed]",
      "text/plain": [
       "<Figure size 612.12x734.543 with 6 Axes>"
      ]
     },
     "metadata": {
      "needs_background": "light"
     },
     "output_type": "display_data"
    }
   ],
   "source": [
    "%%time\n",
    "mega_boxplot(datas, subtitles, fname, title, boxcolors)"
   ]
  },
  {
   "cell_type": "code",
   "execution_count": null,
   "metadata": {},
   "outputs": [],
   "source": []
  }
 ],
 "metadata": {
  "kernelspec": {
   "display_name": "Python 3",
   "language": "python",
   "name": "python3"
  },
  "language_info": {
   "codemirror_mode": {
    "name": "ipython",
    "version": 3
   },
   "file_extension": ".py",
   "mimetype": "text/x-python",
   "name": "python",
   "nbconvert_exporter": "python",
   "pygments_lexer": "ipython3",
   "version": "3.7.9"
  }
 },
 "nbformat": 4,
 "nbformat_minor": 4
}
