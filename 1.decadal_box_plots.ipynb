{
 "cells": [
  {
   "cell_type": "markdown",
   "metadata": {},
   "source": [
    "# Calculate heatwave duration within data"
   ]
  },
  {
   "cell_type": "code",
   "execution_count": 1,
   "metadata": {},
   "outputs": [],
   "source": [
    "import iris\n",
    "import pandas as pd\n",
    "import xarray as xr\n",
    "import numpy as np\n",
    "from dask import array as da"
   ]
  },
  {
   "cell_type": "code",
   "execution_count": 2,
   "metadata": {},
   "outputs": [],
   "source": [
    "def np_consecutive(arr):\n",
    "    if isinstance(arr, (xr.DataArray, iris.cube.Cube)):\n",
    "        data = arr.data\n",
    "        if isinstance(data, da.Array):\n",
    "            data.compute_chunk_sizes()\n",
    "    else:\n",
    "        data = arr\n",
    "    out = np.diff(np.where(np.concatenate(([data[0]],\n",
    "                                     data[:-1] != data[1:],\n",
    "                                     [True])))[0])[::2]\n",
    "    return out"
   ]
  },
  {
   "cell_type": "code",
   "execution_count": 194,
   "metadata": {},
   "outputs": [],
   "source": [
    "def consec_count(data, threshold=25, ndays=14):\n",
    "    \n",
    "    days = np.arange(0, ndays+1)\n",
    "    heatwave_counts = {}\n",
    "    years = np.unique(data.year)\n",
    "    for year in years:\n",
    "        counts = np.zeros_like(days)\n",
    "        arr = data[data.year==year]\n",
    "        arr_hot = arr>threshold\n",
    "        hots = np_consecutive(arr_hot)\n",
    "        colds = np.count_nonzero(~arr_hot)\n",
    "        counts[0]=colds\n",
    "        for day in days[1:-1]:\n",
    "            counts[day]=np.count_nonzero(hots==day)\n",
    "        counts[-1]=np.count_nonzero(hots>=days[-1])\n",
    "\n",
    "        heatwave_counts[year]=counts\n",
    "    return heatwave_counts"
   ]
  },
  {
   "cell_type": "code",
   "execution_count": 7,
   "metadata": {},
   "outputs": [],
   "source": [
    "def annual_heatwaves(data, **kwargs):\n",
    "    if isinstance(data, iris.cube.Cube):\n",
    "        data = xr.DataArray.from_iris(data).compute()\n",
    "    ensemble = np.unique(data.ensemble_member)\n",
    "    dfs = []\n",
    "    for member in ensemble:\n",
    "        arr = data.sel(ensemble_member=member).compute()\n",
    "        counts = consec_count(arr, **kwargs)\n",
    "        df = pd.DataFrame.from_dict(counts, orient='index')\n",
    "        df.reset_index(inplace=True)\n",
    "        df.rename(columns={'index': 'year'}, inplace=True)\n",
    "        df['ensemble_member']=member\n",
    "        dfs.append(df)\n",
    "    return pd.concat(dfs)"
   ]
  },
  {
   "cell_type": "markdown",
   "metadata": {},
   "source": [
    "## `tasmax`"
   ]
  },
  {
   "cell_type": "code",
   "execution_count": 5,
   "metadata": {},
   "outputs": [
    {
     "name": "stdout",
     "output_type": "stream",
     "text": [
      "CPU times: user 298 ms, sys: 24.9 ms, total: 323 ms\n",
      "Wall time: 516 ms\n"
     ]
    },
    {
     "data": {
      "text/plain": [
       "'air_temperature / (degC)            (ensemble_member: 12; time: 21600)'"
      ]
     },
     "execution_count": 5,
     "metadata": {},
     "output_type": "execute_result"
    }
   ],
   "source": [
    "%%time\n",
    "fname = \"data/UKCP/utci_regional/tasmax_rcp85_land-cpm_uk_london_01-15_day_19801201-20801130.nc\"\n",
    "tasmax = iris.load_cube(fname)\n",
    "tasmax.summary(shorten=True)"
   ]
  },
  {
   "cell_type": "markdown",
   "metadata": {},
   "source": [
    "### Annual hot days (number of days above 28°C)"
   ]
  },
  {
   "cell_type": "code",
   "execution_count": 32,
   "metadata": {},
   "outputs": [
    {
     "name": "stdout",
     "output_type": "stream",
     "text": [
      "CPU times: user 1.09 s, sys: 41.4 ms, total: 1.14 s\n",
      "Wall time: 1.15 s\n"
     ]
    }
   ],
   "source": [
    "%%time\n",
    "tashot = tasmax.aggregated_by(\"year\", iris.analysis.COUNT, function=lambda value: value>=28)\n",
    "tashot.rename(\"Annual Hot Days\")"
   ]
  },
  {
   "cell_type": "markdown",
   "metadata": {},
   "source": [
    "### Annual heatwave days (number of days within a heatwave | 3+ days of >28°C)"
   ]
  },
  {
   "cell_type": "code",
   "execution_count": 110,
   "metadata": {},
   "outputs": [
    {
     "name": "stdout",
     "output_type": "stream",
     "text": [
      "CPU times: user 2.15 s, sys: 38.1 ms, total: 2.18 s\n",
      "Wall time: 2.26 s\n"
     ]
    },
    {
     "data": {
      "text/html": [
       "<div>\n",
       "<style scoped>\n",
       "    .dataframe tbody tr th:only-of-type {\n",
       "        vertical-align: middle;\n",
       "    }\n",
       "\n",
       "    .dataframe tbody tr th {\n",
       "        vertical-align: top;\n",
       "    }\n",
       "\n",
       "    .dataframe thead th {\n",
       "        text-align: right;\n",
       "    }\n",
       "</style>\n",
       "<table border=\"1\" class=\"dataframe\">\n",
       "  <thead>\n",
       "    <tr style=\"text-align: right;\">\n",
       "      <th></th>\n",
       "      <th>year</th>\n",
       "      <th>ensemble_member</th>\n",
       "      <th>heatwave_days</th>\n",
       "    </tr>\n",
       "  </thead>\n",
       "  <tbody>\n",
       "    <tr>\n",
       "      <th>0</th>\n",
       "      <td>1980</td>\n",
       "      <td>1</td>\n",
       "      <td>0</td>\n",
       "    </tr>\n",
       "    <tr>\n",
       "      <th>1</th>\n",
       "      <td>1980</td>\n",
       "      <td>4</td>\n",
       "      <td>0</td>\n",
       "    </tr>\n",
       "    <tr>\n",
       "      <th>2</th>\n",
       "      <td>1980</td>\n",
       "      <td>5</td>\n",
       "      <td>0</td>\n",
       "    </tr>\n",
       "    <tr>\n",
       "      <th>3</th>\n",
       "      <td>1980</td>\n",
       "      <td>6</td>\n",
       "      <td>0</td>\n",
       "    </tr>\n",
       "    <tr>\n",
       "      <th>4</th>\n",
       "      <td>1980</td>\n",
       "      <td>7</td>\n",
       "      <td>0</td>\n",
       "    </tr>\n",
       "  </tbody>\n",
       "</table>\n",
       "</div>"
      ],
      "text/plain": [
       "   year  ensemble_member  heatwave_days\n",
       "0  1980                1              0\n",
       "1  1980                4              0\n",
       "2  1980                5              0\n",
       "3  1980                6              0\n",
       "4  1980                7              0"
      ]
     },
     "execution_count": 110,
     "metadata": {},
     "output_type": "execute_result"
    }
   ],
   "source": [
    "%%time\n",
    "tashw = (annual_heatwaves(tasmax, threshold=28, ndays=90)\n",
    "         .drop(columns=[0, 1, 2])\n",
    "         .melt(id_vars=['year', 'ensemble_member'], var_name='duration', value_name='occurances')\n",
    "         .assign(heatwave_days=lambda df: df.duration*df.occurances)\n",
    "         .drop(columns=['duration', 'occurances'])\n",
    "         .groupby(['year', 'ensemble_member'])\n",
    "         .sum()\n",
    "         .reset_index()\n",
    "        )\n",
    "tashw.head()"
   ]
  },
  {
   "cell_type": "markdown",
   "metadata": {},
   "source": [
    "## `utci`"
   ]
  },
  {
   "cell_type": "code",
   "execution_count": 112,
   "metadata": {},
   "outputs": [
    {
     "name": "stdout",
     "output_type": "stream",
     "text": [
      "CPU times: user 298 ms, sys: 18.6 ms, total: 316 ms\n",
      "Wall time: 636 ms\n"
     ]
    },
    {
     "data": {
      "text/plain": [
       "'utci / (degC)                       (ensemble_member: 12; time: 21600)'"
      ]
     },
     "execution_count": 112,
     "metadata": {},
     "output_type": "execute_result"
    }
   ],
   "source": [
    "%%time\n",
    "fname = \"data/UKCP/utci_regional/utcimax_rcp85_land-cpm_uk_london_01-15_day_19801201-20801130.nc\"\n",
    "utci = iris.load_cube(fname)\n",
    "utci.summary(shorten=True)"
   ]
  },
  {
   "cell_type": "markdown",
   "metadata": {},
   "source": [
    "### Annual hot days (number of days above 28°C)"
   ]
  },
  {
   "cell_type": "code",
   "execution_count": 116,
   "metadata": {},
   "outputs": [
    {
     "name": "stdout",
     "output_type": "stream",
     "text": [
      "CPU times: user 1.09 s, sys: 30.8 ms, total: 1.12 s\n",
      "Wall time: 1.15 s\n"
     ]
    }
   ],
   "source": [
    "%%time\n",
    "utcihot = utci.aggregated_by(\"year\", iris.analysis.COUNT, function=lambda value: value>=28)\n",
    "utcihot.rename(\"Annual Hot Days (UTCI)\")"
   ]
  },
  {
   "cell_type": "markdown",
   "metadata": {},
   "source": [
    "### Annual heatwave days (number of days within a heatwave | 3+ days of >28°C)"
   ]
  },
  {
   "cell_type": "code",
   "execution_count": 114,
   "metadata": {},
   "outputs": [
    {
     "name": "stdout",
     "output_type": "stream",
     "text": [
      "CPU times: user 2.17 s, sys: 35 ms, total: 2.2 s\n",
      "Wall time: 2.26 s\n"
     ]
    },
    {
     "data": {
      "text/html": [
       "<div>\n",
       "<style scoped>\n",
       "    .dataframe tbody tr th:only-of-type {\n",
       "        vertical-align: middle;\n",
       "    }\n",
       "\n",
       "    .dataframe tbody tr th {\n",
       "        vertical-align: top;\n",
       "    }\n",
       "\n",
       "    .dataframe thead th {\n",
       "        text-align: right;\n",
       "    }\n",
       "</style>\n",
       "<table border=\"1\" class=\"dataframe\">\n",
       "  <thead>\n",
       "    <tr style=\"text-align: right;\">\n",
       "      <th></th>\n",
       "      <th>year</th>\n",
       "      <th>ensemble_member</th>\n",
       "      <th>heatwave_days</th>\n",
       "    </tr>\n",
       "  </thead>\n",
       "  <tbody>\n",
       "    <tr>\n",
       "      <th>0</th>\n",
       "      <td>1980</td>\n",
       "      <td>1</td>\n",
       "      <td>0</td>\n",
       "    </tr>\n",
       "    <tr>\n",
       "      <th>1</th>\n",
       "      <td>1980</td>\n",
       "      <td>4</td>\n",
       "      <td>0</td>\n",
       "    </tr>\n",
       "    <tr>\n",
       "      <th>2</th>\n",
       "      <td>1980</td>\n",
       "      <td>5</td>\n",
       "      <td>0</td>\n",
       "    </tr>\n",
       "    <tr>\n",
       "      <th>3</th>\n",
       "      <td>1980</td>\n",
       "      <td>6</td>\n",
       "      <td>0</td>\n",
       "    </tr>\n",
       "    <tr>\n",
       "      <th>4</th>\n",
       "      <td>1980</td>\n",
       "      <td>7</td>\n",
       "      <td>0</td>\n",
       "    </tr>\n",
       "  </tbody>\n",
       "</table>\n",
       "</div>"
      ],
      "text/plain": [
       "   year  ensemble_member  heatwave_days\n",
       "0  1980                1              0\n",
       "1  1980                4              0\n",
       "2  1980                5              0\n",
       "3  1980                6              0\n",
       "4  1980                7              0"
      ]
     },
     "execution_count": 114,
     "metadata": {},
     "output_type": "execute_result"
    }
   ],
   "source": [
    "%%time\n",
    "utcihw = (annual_heatwaves(utci, threshold=28, ndays=90)\n",
    "         .drop(columns=[0, 1, 2])\n",
    "         .melt(id_vars=['year', 'ensemble_member'], var_name='duration', value_name='occurances')\n",
    "         .assign(heatwave_days=lambda df: df.duration*df.occurances)\n",
    "         .drop(columns=['duration', 'occurances'])\n",
    "         .groupby(['year', 'ensemble_member'])\n",
    "         .sum()\n",
    "         .reset_index()\n",
    "        )\n",
    "utcihw.head()"
   ]
  },
  {
   "cell_type": "markdown",
   "metadata": {},
   "source": [
    "## `utci10`"
   ]
  },
  {
   "cell_type": "code",
   "execution_count": 115,
   "metadata": {},
   "outputs": [
    {
     "name": "stdout",
     "output_type": "stream",
     "text": [
      "CPU times: user 249 ms, sys: 18.6 ms, total: 267 ms\n",
      "Wall time: 418 ms\n"
     ]
    },
    {
     "data": {
      "text/plain": [
       "'utci class 10 / (1)                 (ensemble_member: 12; time: 21600)'"
      ]
     },
     "execution_count": 115,
     "metadata": {},
     "output_type": "execute_result"
    }
   ],
   "source": [
    "%%time\n",
    "fname = \"data/UKCP/utci_regional/utci10max_rcp85_land-cpm_uk_london_01-15_day_19801201-20801130.nc\"\n",
    "u10 = iris.load_cube(fname)\n",
    "u10.summary(shorten=True)"
   ]
  },
  {
   "cell_type": "markdown",
   "metadata": {},
   "source": [
    "### Annual hot days (number of days above 28°C)"
   ]
  },
  {
   "cell_type": "code",
   "execution_count": 122,
   "metadata": {},
   "outputs": [
    {
     "name": "stdout",
     "output_type": "stream",
     "text": [
      "CPU times: user 1.05 s, sys: 46.8 ms, total: 1.1 s\n",
      "Wall time: 1.24 s\n"
     ]
    }
   ],
   "source": [
    "%%time\n",
    "u10hot = u10.aggregated_by(\"year\", iris.analysis.COUNT, function=lambda value: value>6.0)\n",
    "u10hot.rename(\"Annual Heatstress Days (UTCI10)\")"
   ]
  },
  {
   "cell_type": "markdown",
   "metadata": {},
   "source": [
    "### Annual heatwave days (number of days within a heatwave | 3+ days of >28°C)"
   ]
  },
  {
   "cell_type": "code",
   "execution_count": 123,
   "metadata": {},
   "outputs": [
    {
     "name": "stdout",
     "output_type": "stream",
     "text": [
      "CPU times: user 2.18 s, sys: 34.1 ms, total: 2.22 s\n",
      "Wall time: 2.3 s\n"
     ]
    },
    {
     "data": {
      "text/html": [
       "<div>\n",
       "<style scoped>\n",
       "    .dataframe tbody tr th:only-of-type {\n",
       "        vertical-align: middle;\n",
       "    }\n",
       "\n",
       "    .dataframe tbody tr th {\n",
       "        vertical-align: top;\n",
       "    }\n",
       "\n",
       "    .dataframe thead th {\n",
       "        text-align: right;\n",
       "    }\n",
       "</style>\n",
       "<table border=\"1\" class=\"dataframe\">\n",
       "  <thead>\n",
       "    <tr style=\"text-align: right;\">\n",
       "      <th></th>\n",
       "      <th>year</th>\n",
       "      <th>ensemble_member</th>\n",
       "      <th>heatwave_days</th>\n",
       "    </tr>\n",
       "  </thead>\n",
       "  <tbody>\n",
       "    <tr>\n",
       "      <th>0</th>\n",
       "      <td>1980</td>\n",
       "      <td>1</td>\n",
       "      <td>0</td>\n",
       "    </tr>\n",
       "    <tr>\n",
       "      <th>1</th>\n",
       "      <td>1980</td>\n",
       "      <td>4</td>\n",
       "      <td>0</td>\n",
       "    </tr>\n",
       "    <tr>\n",
       "      <th>2</th>\n",
       "      <td>1980</td>\n",
       "      <td>5</td>\n",
       "      <td>0</td>\n",
       "    </tr>\n",
       "    <tr>\n",
       "      <th>3</th>\n",
       "      <td>1980</td>\n",
       "      <td>6</td>\n",
       "      <td>0</td>\n",
       "    </tr>\n",
       "    <tr>\n",
       "      <th>4</th>\n",
       "      <td>1980</td>\n",
       "      <td>7</td>\n",
       "      <td>0</td>\n",
       "    </tr>\n",
       "  </tbody>\n",
       "</table>\n",
       "</div>"
      ],
      "text/plain": [
       "   year  ensemble_member  heatwave_days\n",
       "0  1980                1              0\n",
       "1  1980                4              0\n",
       "2  1980                5              0\n",
       "3  1980                6              0\n",
       "4  1980                7              0"
      ]
     },
     "execution_count": 123,
     "metadata": {},
     "output_type": "execute_result"
    }
   ],
   "source": [
    "%%time\n",
    "u10hw = (annual_heatwaves(u10, threshold=6.0, ndays=90)\n",
    "         .drop(columns=[0, 1, 2])\n",
    "         .melt(id_vars=['year', 'ensemble_member'], var_name='duration', value_name='occurances')\n",
    "         .assign(heatwave_days=lambda df: df.duration*df.occurances)\n",
    "         .drop(columns=['duration', 'occurances'])\n",
    "         .groupby(['year', 'ensemble_member'])\n",
    "         .sum()\n",
    "         .reset_index()\n",
    "        )\n",
    "u10hw.head()"
   ]
  },
  {
   "cell_type": "markdown",
   "metadata": {},
   "source": [
    "# Boxplots"
   ]
  },
  {
   "cell_type": "code",
   "execution_count": 85,
   "metadata": {},
   "outputs": [],
   "source": [
    "import matplotlib.pyplot as plt"
   ]
  },
  {
   "cell_type": "code",
   "execution_count": 102,
   "metadata": {},
   "outputs": [],
   "source": [
    "def box_cube_decadal(cube, years, title=\"\", ylim=100):\n",
    "    xss = []\n",
    "    ls = []\n",
    "    for d in years:\n",
    "        xs = []\n",
    "        for y in range(d+1, d+11):\n",
    "            x=cube.extract(iris.Constraint(year=y)).data\n",
    "            xs.extend(x)\n",
    "        xss.append(xs)\n",
    "        ls.append(f\"{d}s\")\n",
    "    plt.boxplot(xss, labels=ls)\n",
    "    plt.title(f\"{title} {ls[0]}-{ls[-1]}\")\n",
    "    plt.xlabel(\"Decade\")\n",
    "    plt.ylabel(\"Number of days per year\")\n",
    "    plt.ylim((0,ylim))\n",
    "    plt.grid(axis='y')\n",
    "    return plt.gca()"
   ]
  },
  {
   "cell_type": "code",
   "execution_count": 100,
   "metadata": {},
   "outputs": [],
   "source": [
    "def box_df_decadal(df, years, title=\"\", ylim=100):\n",
    "    xss = []\n",
    "    ls = []\n",
    "    for d in years:\n",
    "        xs = []\n",
    "        for y in range(d+1, d+11):\n",
    "            x=df[df.year==y].heatwave_days\n",
    "            xs.extend(x)\n",
    "        xss.append(xs)\n",
    "        ls.append(f\"{d}s\")\n",
    "    plt.boxplot(xss, labels=ls)\n",
    "    plt.title(f\"{title} {ls[0]}-{ls[-1]}\")\n",
    "    plt.xlabel(\"Decade\")\n",
    "    plt.ylabel(\"Number of days per year\")\n",
    "    plt.ylim((0,ylim))\n",
    "    plt.grid(axis='y')\n",
    "    return plt.gca()"
   ]
  },
  {
   "cell_type": "code",
   "execution_count": 103,
   "metadata": {},
   "outputs": [
    {
     "data": {
      "text/plain": [
       "<AxesSubplot:title={'center':' 1980s-2070s'}, xlabel='Decade', ylabel='Number of days per year'>"
      ]
     },
     "execution_count": 103,
     "metadata": {},
     "output_type": "execute_result"
    },
    {
     "data": {
      "image/png": "[encoded data removed]",
      "text/plain": [
       "<Figure size 432x288 with 1 Axes>"
      ]
     },
     "metadata": {
      "needs_background": "light"
     },
     "output_type": "display_data"
    }
   ],
   "source": [
    "box_cube_decadal(tashot, (1980, 1990, 2020, 2030, 2060, 2070), ylim=120)"
   ]
  },
  {
   "cell_type": "code",
   "execution_count": 120,
   "metadata": {},
   "outputs": [
    {
     "data": {
      "text/plain": [
       "<AxesSubplot:title={'center':' 1980s-2070s'}, xlabel='Decade', ylabel='Number of days per year'>"
      ]
     },
     "execution_count": 120,
     "metadata": {},
     "output_type": "execute_result"
    },
    {
     "data": {
      "image/png": "[encoded data removed]",
      "text/plain": [
       "<Figure size 432x288 with 1 Axes>"
      ]
     },
     "metadata": {
      "needs_background": "light"
     },
     "output_type": "display_data"
    }
   ],
   "source": [
    "box_cube_decadal(utcihot, (1980, 1990, 2020, 2030, 2060, 2070), ylim=120)"
   ]
  },
  {
   "cell_type": "code",
   "execution_count": 124,
   "metadata": {},
   "outputs": [
    {
     "data": {
      "text/plain": [
       "<AxesSubplot:title={'center':' 1980s-2070s'}, xlabel='Decade', ylabel='Number of days per year'>"
      ]
     },
     "execution_count": 124,
     "metadata": {},
     "output_type": "execute_result"
    },
    {
     "data": {
      "image/png": "[encoded data removed]",
      "text/plain": [
       "<Figure size 432x288 with 1 Axes>"
      ]
     },
     "metadata": {
      "needs_background": "light"
     },
     "output_type": "display_data"
    }
   ],
   "source": [
    "box_cube_decadal(u10hot, (1980, 1990, 2020, 2030, 2060, 2070), ylim=120)"
   ]
  },
  {
   "cell_type": "code",
   "execution_count": 101,
   "metadata": {},
   "outputs": [
    {
     "data": {
      "text/plain": [
       "<AxesSubplot:title={'center':' 1980s-2070s'}, xlabel='Decade', ylabel='Number of days per year'>"
      ]
     },
     "execution_count": 101,
     "metadata": {},
     "output_type": "execute_result"
    },
    {
     "data": {
      "image/png": "[encoded data removed]",
      "text/plain": [
       "<Figure size 432x288 with 1 Axes>"
      ]
     },
     "metadata": {
      "needs_background": "light"
     },
     "output_type": "display_data"
    }
   ],
   "source": [
    "box_df_decadal(tashw, (1980, 1990, 2020, 2030, 2060, 2070), ylim=120)"
   ]
  },
  {
   "cell_type": "code",
   "execution_count": 125,
   "metadata": {},
   "outputs": [
    {
     "data": {
      "text/plain": [
       "<AxesSubplot:title={'center':' 1980s-2070s'}, xlabel='Decade', ylabel='Number of days per year'>"
      ]
     },
     "execution_count": 125,
     "metadata": {},
     "output_type": "execute_result"
    },
    {
     "data": {
      "image/png": "[encoded data removed]",
      "text/plain": [
       "<Figure size 432x288 with 1 Axes>"
      ]
     },
     "metadata": {
      "needs_background": "light"
     },
     "output_type": "display_data"
    }
   ],
   "source": [
    "box_df_decadal(utcihw, (1980, 1990, 2020, 2030, 2060, 2070), ylim=120)"
   ]
  },
  {
   "cell_type": "code",
   "execution_count": 126,
   "metadata": {},
   "outputs": [
    {
     "data": {
      "text/plain": [
       "<AxesSubplot:title={'center':' 1980s-2070s'}, xlabel='Decade', ylabel='Number of days per year'>"
      ]
     },
     "execution_count": 126,
     "metadata": {},
     "output_type": "execute_result"
    },
    {
     "data": {
      "image/png": "[encoded data removed]",
      "text/plain": [
       "<Figure size 432x288 with 1 Axes>"
      ]
     },
     "metadata": {
      "needs_background": "light"
     },
     "output_type": "display_data"
    }
   ],
   "source": [
    "box_df_decadal(u10hw, (1980, 1990, 2020, 2030, 2060, 2070), ylim=120)"
   ]
  },
  {
   "cell_type": "markdown",
   "metadata": {},
   "source": [
    "# Longest heatwave"
   ]
  },
  {
   "cell_type": "code",
   "execution_count": 185,
   "metadata": {},
   "outputs": [],
   "source": [
    "def longest_hw(data, **kwargs):\n",
    "    df = annual_heatwaves(data, **kwargs).melt(id_vars=['year', 'ensemble_member'], var_name='duration', value_name='occurances')\n",
    "    return df.loc[df.occurances!=0].loc[df.duration==df[df.occurances!=0].duration.max()]"
   ]
  },
  {
   "cell_type": "code",
   "execution_count": 195,
   "metadata": {},
   "outputs": [
    {
     "name": "stdout",
     "output_type": "stream",
     "text": [
      "CPU times: user 2.26 s, sys: 31.6 ms, total: 2.29 s\n",
      "Wall time: 2.5 s\n"
     ]
    },
    {
     "data": {
      "text/html": [
       "<div>\n",
       "<style scoped>\n",
       "    .dataframe tbody tr th:only-of-type {\n",
       "        vertical-align: middle;\n",
       "    }\n",
       "\n",
       "    .dataframe tbody tr th {\n",
       "        vertical-align: top;\n",
       "    }\n",
       "\n",
       "    .dataframe thead th {\n",
       "        text-align: right;\n",
       "    }\n",
       "</style>\n",
       "<table border=\"1\" class=\"dataframe\">\n",
       "  <thead>\n",
       "    <tr style=\"text-align: right;\">\n",
       "      <th></th>\n",
       "      <th>year</th>\n",
       "      <th>ensemble_member</th>\n",
       "      <th>duration</th>\n",
       "      <th>occurances</th>\n",
       "    </tr>\n",
       "  </thead>\n",
       "  <tbody>\n",
       "    <tr>\n",
       "      <th>55876</th>\n",
       "      <td>2076</td>\n",
       "      <td>13</td>\n",
       "      <td>73</td>\n",
       "      <td>1</td>\n",
       "    </tr>\n",
       "  </tbody>\n",
       "</table>\n",
       "</div>"
      ],
      "text/plain": [
       "       year  ensemble_member duration  occurances\n",
       "55876  2076               13       73           1"
      ]
     },
     "execution_count": 195,
     "metadata": {},
     "output_type": "execute_result"
    }
   ],
   "source": [
    "%%time\n",
    "longest_hw(tasmax, threshold=28, ndays=90)"
   ]
  },
  {
   "cell_type": "code",
   "execution_count": 197,
   "metadata": {},
   "outputs": [
    {
     "name": "stdout",
     "output_type": "stream",
     "text": [
      "CPU times: user 2.18 s, sys: 35.3 ms, total: 2.22 s\n",
      "Wall time: 2.35 s\n"
     ]
    },
    {
     "data": {
      "text/html": [
       "<div>\n",
       "<style scoped>\n",
       "    .dataframe tbody tr th:only-of-type {\n",
       "        vertical-align: middle;\n",
       "    }\n",
       "\n",
       "    .dataframe tbody tr th {\n",
       "        vertical-align: top;\n",
       "    }\n",
       "\n",
       "    .dataframe thead th {\n",
       "        text-align: right;\n",
       "    }\n",
       "</style>\n",
       "<table border=\"1\" class=\"dataframe\">\n",
       "  <thead>\n",
       "    <tr style=\"text-align: right;\">\n",
       "      <th></th>\n",
       "      <th>year</th>\n",
       "      <th>ensemble_member</th>\n",
       "      <th>duration</th>\n",
       "      <th>occurances</th>\n",
       "    </tr>\n",
       "  </thead>\n",
       "  <tbody>\n",
       "    <tr>\n",
       "      <th>27908</th>\n",
       "      <td>2080</td>\n",
       "      <td>13</td>\n",
       "      <td>36</td>\n",
       "      <td>1</td>\n",
       "    </tr>\n",
       "  </tbody>\n",
       "</table>\n",
       "</div>"
      ],
      "text/plain": [
       "       year  ensemble_member duration  occurances\n",
       "27908  2080               13       36           1"
      ]
     },
     "execution_count": 197,
     "metadata": {},
     "output_type": "execute_result"
    }
   ],
   "source": [
    "%%time\n",
    "longest_hw(utci, threshold=28, ndays=90)"
   ]
  },
  {
   "cell_type": "code",
   "execution_count": 199,
   "metadata": {},
   "outputs": [
    {
     "name": "stdout",
     "output_type": "stream",
     "text": [
      "CPU times: user 2.16 s, sys: 31.4 ms, total: 2.19 s\n",
      "Wall time: 2.28 s\n"
     ]
    },
    {
     "data": {
      "text/html": [
       "<div>\n",
       "<style scoped>\n",
       "    .dataframe tbody tr th:only-of-type {\n",
       "        vertical-align: middle;\n",
       "    }\n",
       "\n",
       "    .dataframe tbody tr th {\n",
       "        vertical-align: top;\n",
       "    }\n",
       "\n",
       "    .dataframe thead th {\n",
       "        text-align: right;\n",
       "    }\n",
       "</style>\n",
       "<table border=\"1\" class=\"dataframe\">\n",
       "  <thead>\n",
       "    <tr style=\"text-align: right;\">\n",
       "      <th></th>\n",
       "      <th>year</th>\n",
       "      <th>ensemble_member</th>\n",
       "      <th>duration</th>\n",
       "      <th>occurances</th>\n",
       "    </tr>\n",
       "  </thead>\n",
       "  <tbody>\n",
       "    <tr>\n",
       "      <th>33956</th>\n",
       "      <td>2080</td>\n",
       "      <td>13</td>\n",
       "      <td>44</td>\n",
       "      <td>1</td>\n",
       "    </tr>\n",
       "  </tbody>\n",
       "</table>\n",
       "</div>"
      ],
      "text/plain": [
       "       year  ensemble_member duration  occurances\n",
       "33956  2080               13       44           1"
      ]
     },
     "execution_count": 199,
     "metadata": {},
     "output_type": "execute_result"
    }
   ],
   "source": [
    "%%time\n",
    "longest_hw(u10, threshold=6.0, ndays=90)"
   ]
  },
  {
   "cell_type": "code",
   "execution_count": null,
   "metadata": {},
   "outputs": [],
   "source": []
  }
 ],
 "metadata": {
  "kernelspec": {
   "display_name": "Python 3",
   "language": "python",
   "name": "python3"
  },
  "language_info": {
   "codemirror_mode": {
    "name": "ipython",
    "version": 3
   },
   "file_extension": ".py",
   "mimetype": "text/x-python",
   "name": "python",
   "nbconvert_exporter": "python",
   "pygments_lexer": "ipython3",
   "version": "3.7.9"
  }
 },
 "nbformat": 4,
 "nbformat_minor": 4
}
